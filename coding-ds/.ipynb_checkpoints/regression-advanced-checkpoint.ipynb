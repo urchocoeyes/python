{
 "cells": [
  {
   "cell_type": "markdown",
   "id": "b8df76d6",
   "metadata": {},
   "source": [
    "Regression - find relationship between variables\n",
    "\n",
    "Least Square Method - draw a line through all plotted data points. Line positioned in a way that it minimizes the distance to all of the data points. The distance called **residuals** or **errors**"
   ]
  },
  {
   "cell_type": "code",
   "execution_count": 1,
   "id": "67358c5c",
   "metadata": {},
   "outputs": [],
   "source": [
    "import pandas as pd\n",
    "import matplotlib.pyplot as plt\n",
    "from scipy import stats"
   ]
  },
  {
   "cell_type": "code",
   "execution_count": 2,
   "id": "2ce7c50a",
   "metadata": {},
   "outputs": [
    {
     "name": "stdout",
     "output_type": "stream",
     "text": [
      "     Duration  Average_Pulse  Max_Pulse  Calorie_Burnage  Hours_Work  \\\n",
      "0          60            110        130              409         0.0   \n",
      "1          60            117        145              479         0.0   \n",
      "2          60            103        135              340         8.0   \n",
      "3          45            109        175              282         8.0   \n",
      "4          45            117        148              406         0.0   \n",
      "..        ...            ...        ...              ...         ...   \n",
      "158        60            105        140              290         7.0   \n",
      "159        60            110        145              300         7.0   \n",
      "160        60            115        145              310         8.0   \n",
      "161        75            120        150              320         0.0   \n",
      "162        75            125        150              330         8.0   \n",
      "\n",
      "     Hours_Sleep  \n",
      "0            8.0  \n",
      "1            8.0  \n",
      "2            7.5  \n",
      "3            8.0  \n",
      "4            6.5  \n",
      "..           ...  \n",
      "158          8.0  \n",
      "159          8.0  \n",
      "160          8.0  \n",
      "161          8.0  \n",
      "162          8.0  \n",
      "\n",
      "[163 rows x 6 columns]\n",
      "x: 0      110\n",
      "1      117\n",
      "2      103\n",
      "3      109\n",
      "4      117\n",
      "      ... \n",
      "158    105\n",
      "159    110\n",
      "160    115\n",
      "161    120\n",
      "162    125\n",
      "Name: Average_Pulse, Length: 163, dtype: int64\n",
      "y: 0      409\n",
      "1      479\n",
      "2      340\n",
      "3      282\n",
      "4      406\n",
      "      ... \n",
      "158    290\n",
      "159    300\n",
      "160    310\n",
      "161    320\n",
      "162    330\n",
      "Name: Calorie_Burnage, Length: 163, dtype: int64\n"
     ]
    }
   ],
   "source": [
    "full_health_data = pd.read_csv('data.csv', header=0, sep=',')\n",
    "\n",
    "x = full_health_data['Average_Pulse']\n",
    "y = full_health_data['Calorie_Burnage']\n",
    "print(full_health_data)\n",
    "print('x:', x)\n",
    "print('y:', y)"
   ]
  },
  {
   "cell_type": "code",
   "execution_count": 3,
   "id": "e1ef7d16",
   "metadata": {},
   "outputs": [
    {
     "data": {
      "text/plain": [
       "LinregressResult(slope=0.3295634736556584, intercept=346.8662267857687, rvalue=0.017576257945091014, pvalue=0.8237776479944344, stderr=1.477517466577579, intercept_stderr=160.61521830559641)"
      ]
     },
     "execution_count": 3,
     "metadata": {},
     "output_type": "execute_result"
    }
   ],
   "source": [
    "stats.linregress(x, y)"
   ]
  },
  {
   "cell_type": "code",
   "execution_count": 4,
   "id": "317ae30b",
   "metadata": {},
   "outputs": [],
   "source": [
    "slope, intercept, r, p, std_err = stats.linregress(x, y)"
   ]
  },
  {
   "cell_type": "code",
   "execution_count": 6,
   "id": "5a3f20a1",
   "metadata": {},
   "outputs": [
    {
     "data": {
      "text/plain": [
       "[383.1182088878911,\n",
       " 385.4251532034807,\n",
       " 380.81126457230147,\n",
       " 382.7886454142354,\n",
       " 385.4251532034807,\n",
       " 380.48170109864583,\n",
       " 383.1182088878911,\n",
       " 381.14082804595716,\n",
       " 382.7886454142354,\n",
       " 379.1634472040232,\n",
       " 380.81126457230147,\n",
       " 379.8225741513345,\n",
       " 381.79995499326844,\n",
       " 381.14082804595716,\n",
       " 379.1634472040232,\n",
       " 379.1634472040232,\n",
       " 379.8225741513345,\n",
       " 376.5269394147779,\n",
       " 380.81126457230147,\n",
       " 378.8338837303675,\n",
       " 382.4590819405798,\n",
       " 379.8225741513345,\n",
       " 389.70947836100424,\n",
       " 381.4703915196128,\n",
       " 380.48170109864583,\n",
       " 379.8225741513345,\n",
       " 377.18606636208926,\n",
       " 380.81126457230147,\n",
       " 379.8225741513345,\n",
       " 380.48170109864583,\n",
       " 377.18606636208926,\n",
       " 380.1521376249902,\n",
       " 377.5156298357449,\n",
       " 382.12951846692414,\n",
       " 384.43646278251373,\n",
       " 379.8225741513345,\n",
       " 379.8225741513345,\n",
       " 381.14082804595716,\n",
       " 379.1634472040232,\n",
       " 379.8225741513345,\n",
       " 383.44777236154675,\n",
       " 383.44777236154675,\n",
       " 379.49301067767885,\n",
       " 382.7886454142354,\n",
       " 383.44777236154675,\n",
       " 382.4590819405798,\n",
       " 383.44777236154675,\n",
       " 382.12951846692414,\n",
       " 387.40253404541465,\n",
       " 381.79995499326844,\n",
       " 385.75471667713634,\n",
       " 391.6868592029382,\n",
       " 386.7434070981033,\n",
       " 385.75471667713634,\n",
       " 384.76602625616937,\n",
       " 397.2894382550844,\n",
       " 387.40253404541465,\n",
       " 382.4590819405798,\n",
       " 383.1182088878911,\n",
       " 382.7886454142354,\n",
       " 385.75471667713634,\n",
       " 383.1182088878911,\n",
       " 376.5269394147779,\n",
       " 381.4703915196128,\n",
       " 382.12951846692414,\n",
       " 381.79995499326844,\n",
       " 382.4590819405798,\n",
       " 378.8338837303675,\n",
       " 379.8225741513345,\n",
       " 378.8338837303675,\n",
       " 384.43646278251373,\n",
       " 379.1634472040232,\n",
       " 381.4703915196128,\n",
       " 383.1182088878911,\n",
       " 379.8225741513345,\n",
       " 379.8225741513345,\n",
       " 399.26681909701836,\n",
       " 395.9711843604618,\n",
       " 380.81126457230147,\n",
       " 379.8225741513345,\n",
       " 379.8225741513345,\n",
       " 396.63031130777307,\n",
       " 380.48170109864583,\n",
       " 379.8225741513345,\n",
       " 389.3799148873486,\n",
       " 374.21999509918834,\n",
       " 380.1521376249902,\n",
       " 382.12951846692414,\n",
       " 376.5269394147779,\n",
       " 373.23130467822136,\n",
       " 396.30074783411743,\n",
       " 396.63031130777307,\n",
       " 378.17475678305624,\n",
       " 396.95987478142877,\n",
       " 382.7886454142354,\n",
       " 377.5156298357449,\n",
       " 378.17475678305624,\n",
       " 376.5269394147779,\n",
       " 376.5269394147779,\n",
       " 376.5269394147779,\n",
       " 377.18606636208926,\n",
       " 377.5156298357449,\n",
       " 376.5269394147779,\n",
       " 376.5269394147779,\n",
       " 376.5269394147779,\n",
       " 392.0164226765939,\n",
       " 380.48170109864583,\n",
       " 382.12951846692414,\n",
       " 387.7320975190703,\n",
       " 382.4590819405798,\n",
       " 382.4590819405798,\n",
       " 385.09558972982506,\n",
       " 378.8338837303675,\n",
       " 381.4703915196128,\n",
       " 380.81126457230147,\n",
       " 383.7773358352024,\n",
       " 379.8225741513345,\n",
       " 386.08428015079204,\n",
       " 382.12951846692414,\n",
       " 383.44777236154675,\n",
       " 379.1634472040232,\n",
       " 378.8338837303675,\n",
       " 382.7886454142354,\n",
       " 379.49301067767885,\n",
       " 384.43646278251373,\n",
       " 381.14082804595716,\n",
       " 382.12951846692414,\n",
       " 380.81126457230147,\n",
       " 381.79995499326844,\n",
       " 380.81126457230147,\n",
       " 391.6868592029382,\n",
       " 385.4251532034807,\n",
       " 384.76602625616937,\n",
       " 384.1068993088581,\n",
       " 393.3346765712165,\n",
       " 382.4590819405798,\n",
       " 378.8338837303675,\n",
       " 379.8225741513345,\n",
       " 387.072970571759,\n",
       " 391.6868592029382,\n",
       " 381.79995499326844,\n",
       " 382.12951846692414,\n",
       " 383.7773358352024,\n",
       " 380.81126457230147,\n",
       " 383.1182088878911,\n",
       " 381.79995499326844,\n",
       " 382.7886454142354,\n",
       " 382.7886454142354,\n",
       " 396.30074783411743,\n",
       " 381.4703915196128,\n",
       " 378.8338837303675,\n",
       " 379.8225741513345,\n",
       " 384.43646278251373,\n",
       " 373.23130467822136,\n",
       " 374.8791220464996,\n",
       " 376.5269394147779,\n",
       " 378.17475678305624,\n",
       " 379.8225741513345,\n",
       " 381.4703915196128,\n",
       " 383.1182088878911,\n",
       " 384.76602625616937,\n",
       " 386.4138436244477,\n",
       " 388.061660992726]"
      ]
     },
     "execution_count": 6,
     "metadata": {},
     "output_type": "execute_result"
    }
   ],
   "source": [
    "def predictions(x):\n",
    "    return slope * x + intercept\n",
    "\n",
    "mymodel = list(map(predictions, x))\n",
    "mymodel"
   ]
  },
  {
   "cell_type": "code",
   "execution_count": 7,
   "id": "709a42d7",
   "metadata": {},
   "outputs": [
    {
     "data": {
      "text/plain": [
       "<matplotlib.collections.PathCollection at 0x22fa72bdbb0>"
      ]
     },
     "execution_count": 7,
     "metadata": {},
     "output_type": "execute_result"
    },
    {
     "data": {
      "image/png": "[encoded data removed]",
      "text/plain": [
       "<Figure size 640x480 with 1 Axes>"
      ]
     },
     "metadata": {},
     "output_type": "display_data"
    }
   ],
   "source": [
    "plt.scatter(x, y)\n",
    "plt.plot(x, mymodel)"
   ]
  },
  {
   "cell_type": "code",
   "execution_count": null,
   "id": "0e9480de",
   "metadata": {},
   "outputs": [],
   "source": []
  },
  {
   "cell_type": "code",
   "execution_count": null,
   "id": "2fdd9d07",
   "metadata": {},
   "outputs": [],
   "source": []
  },
  {
   "cell_type": "code",
   "execution_count": null,
   "id": "1019da5d",
   "metadata": {},
   "outputs": [],
   "source": []
  },
  {
   "cell_type": "code",
   "execution_count": null,
   "id": "b0240ab0",
   "metadata": {},
   "outputs": [],
   "source": []
  },
  {
   "cell_type": "code",
   "execution_count": null,
   "id": "025f8794",
   "metadata": {},
   "outputs": [],
   "source": []
  },
  {
   "cell_type": "code",
   "execution_count": null,
   "id": "9381c1fe",
   "metadata": {},
   "outputs": [],
   "source": []
  },
  {
   "cell_type": "code",
   "execution_count": null,
   "id": "701a38b0",
   "metadata": {},
   "outputs": [],
   "source": []
  },
  {
   "cell_type": "code",
   "execution_count": null,
   "id": "ad3de8ee",
   "metadata": {},
   "outputs": [],
   "source": []
  },
  {
   "cell_type": "code",
   "execution_count": null,
   "id": "0389650b",
   "metadata": {},
   "outputs": [],
   "source": []
  },
  {
   "cell_type": "code",
   "execution_count": null,
   "id": "1855da52",
   "metadata": {},
   "outputs": [],
   "source": []
  },
  {
   "cell_type": "code",
   "execution_count": null,
   "id": "3ef587a2",
   "metadata": {},
   "outputs": [],
   "source": []
  },
  {
   "cell_type": "code",
   "execution_count": null,
   "id": "13436acf",
   "metadata": {},
   "outputs": [],
   "source": []
  },
  {
   "cell_type": "code",
   "execution_count": null,
   "id": "bcaa7bbd",
   "metadata": {},
   "outputs": [],
   "source": []
  },
  {
   "cell_type": "code",
   "execution_count": null,
   "id": "6cd3be5e",
   "metadata": {},
   "outputs": [],
   "source": []
  },
  {
   "cell_type": "code",
   "execution_count": null,
   "id": "bbe8fa51",
   "metadata": {},
   "outputs": [],
   "source": []
  },
  {
   "cell_type": "code",
   "execution_count": null,
   "id": "7cb35057",
   "metadata": {},
   "outputs": [],
   "source": []
  },
  {
   "cell_type": "code",
   "execution_count": null,
   "id": "f04da03c",
   "metadata": {},
   "outputs": [],
   "source": []
  },
  {
   "cell_type": "code",
   "execution_count": null,
   "id": "c44e0de9",
   "metadata": {},
   "outputs": [],
   "source": []
  },
  {
   "cell_type": "code",
   "execution_count": null,
   "id": "d54f8ac9",
   "metadata": {},
   "outputs": [],
   "source": []
  },
  {
   "cell_type": "code",
   "execution_count": null,
   "id": "efa505ae",
   "metadata": {},
   "outputs": [],
   "source": []
  },
  {
   "cell_type": "code",
   "execution_count": null,
   "id": "41233986",
   "metadata": {},
   "outputs": [],
   "source": []
  },
  {
   "cell_type": "code",
   "execution_count": null,
   "id": "9998f144",
   "metadata": {},
   "outputs": [],
   "source": []
  }
 ],
 "metadata": {
  "kernelspec": {
   "display_name": "Python 3 (ipykernel)",
   "language": "python",
   "name": "python3"
  },
  "language_info": {
   "codemirror_mode": {
    "name": "ipython",
    "version": 3
   },
   "file_extension": ".py",
   "mimetype": "text/x-python",
   "name": "python",
   "nbconvert_exporter": "python",
   "pygments_lexer": "ipython3",
   "version": "3.9.13"
  }
 },
 "nbformat": 4,
 "nbformat_minor": 5
}
